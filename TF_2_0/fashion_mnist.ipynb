{
 "cells": [
  {
   "cell_type": "code",
   "execution_count": 93,
   "metadata": {},
   "outputs": [],
   "source": [
    "import tensorflow as tf\n",
    "import tensorflow.keras as keras\n",
    "import numpy as np"
   ]
  },
  {
   "cell_type": "code",
   "execution_count": 94,
   "metadata": {},
   "outputs": [
    {
     "data": {
      "text/plain": [
       "'2.0.0'"
      ]
     },
     "execution_count": 94,
     "metadata": {},
     "output_type": "execute_result"
    }
   ],
   "source": [
    "tf.__version__\n"
   ]
  },
  {
   "cell_type": "markdown",
   "metadata": {},
   "source": [
    "mnist_dataset = keras.datasets.fashion_mnist"
   ]
  },
  {
   "cell_type": "code",
   "execution_count": 95,
   "metadata": {},
   "outputs": [],
   "source": [
    "mnist_dataset = keras.datasets.fashion_mnist"
   ]
  },
  {
   "cell_type": "code",
   "execution_count": 96,
   "metadata": {},
   "outputs": [],
   "source": [
    "(train_images, train_labels),(test_images, test_labels) = mnist_dataset.load_data()"
   ]
  },
  {
   "cell_type": "code",
   "execution_count": 97,
   "metadata": {},
   "outputs": [
    {
     "data": {
      "text/plain": [
       "(10000, 28, 28)"
      ]
     },
     "execution_count": 97,
     "metadata": {},
     "output_type": "execute_result"
    }
   ],
   "source": [
    "train_images.shape\n",
    "test_images.shape"
   ]
  },
  {
   "cell_type": "code",
   "execution_count": 98,
   "metadata": {},
   "outputs": [
    {
     "data": {
      "text/plain": [
       "(10000, 28, 28)"
      ]
     },
     "execution_count": 98,
     "metadata": {},
     "output_type": "execute_result"
    }
   ],
   "source": [
    "test_images.shape\n"
   ]
  },
  {
   "cell_type": "code",
   "execution_count": 99,
   "metadata": {},
   "outputs": [],
   "source": [
    "test_images = np.expand_dims(test_images, 3)\n",
    "train_images = np.expand_dims(train_images, 3)"
   ]
  },
  {
   "cell_type": "code",
   "execution_count": 100,
   "metadata": {},
   "outputs": [
    {
     "data": {
      "text/plain": [
       "(10000, 28, 28, 1)"
      ]
     },
     "execution_count": 100,
     "metadata": {},
     "output_type": "execute_result"
    }
   ],
   "source": [
    "test_images.shape"
   ]
  },
  {
   "cell_type": "code",
   "execution_count": 101,
   "metadata": {},
   "outputs": [
    {
     "data": {
      "text/plain": [
       "(10000,)"
      ]
     },
     "execution_count": 101,
     "metadata": {},
     "output_type": "execute_result"
    }
   ],
   "source": [
    "test_labels.shape"
   ]
  },
  {
   "cell_type": "code",
   "execution_count": 102,
   "metadata": {},
   "outputs": [],
   "source": [
    "class_names = ['T-shirt/top', 'Trouser', 'Pullover', 'Dress', 'Coat',\n",
    "               'Sandal', 'Shirt', 'Sneaker', 'Bag', 'Ankle boot']"
   ]
  },
  {
   "cell_type": "code",
   "execution_count": 103,
   "metadata": {},
   "outputs": [],
   "source": [
    "test_images = test_images/255.0\n",
    "train_images= train_images/255.0"
   ]
  },
  {
   "cell_type": "code",
   "execution_count": 104,
   "metadata": {},
   "outputs": [],
   "source": [
    "# model = keras.Sequential([keras.layers.Flatten(input_shape=(28,28)),\n",
    "#                          keras.layers.Dense(128, activation=\"relu\"),\n",
    "#                          keras.layers.Dense(10, activation=\"softmax\")])"
   ]
  },
  {
   "cell_type": "code",
   "execution_count": 105,
   "metadata": {},
   "outputs": [],
   "source": [
    "model = keras.Sequential([\n",
    "    keras.layers.Conv2D(32, (3,3), activation=\"relu\", input_shape=(28,28,1)),\n",
    "    keras.layers.MaxPool2D((2,2)),\n",
    "    keras.layers.Conv2D(64, (3,3), activation=\"relu\"),\n",
    "    keras.layers.MaxPool2D((2,2)),\n",
    "    keras.layers.Flatten(),\n",
    "    keras.layers.Dense(1000, activation='relu'),\n",
    "    keras.layers.Dense(400, activation='relu'),\n",
    "    keras.layers.Dense(100, activation='relu'),\n",
    "    keras.layers.Dense(10, activation='softmax')\n",
    "])"
   ]
  },
  {
   "cell_type": "code",
   "execution_count": 106,
   "metadata": {},
   "outputs": [],
   "source": [
    "model.compile(loss=\"sparse_categorical_crossentropy\",\n",
    "             optimizer=\"adam\",\n",
    "             metrics=[\"accuracy\"])"
   ]
  },
  {
   "cell_type": "code",
   "execution_count": 107,
   "metadata": {},
   "outputs": [
    {
     "name": "stdout",
     "output_type": "stream",
     "text": [
      "Train on 60000 samples\n",
      "Epoch 1/20\n",
      "60000/60000 [==============================] - 19s 321us/sample - loss: 0.4320 - accuracy: 0.8407\n",
      "Epoch 2/20\n",
      "60000/60000 [==============================] - 19s 312us/sample - loss: 0.2844 - accuracy: 0.8947\n",
      "Epoch 3/20\n",
      "60000/60000 [==============================] - 19s 312us/sample - loss: 0.2375 - accuracy: 0.9119\n",
      "Epoch 4/20\n",
      "60000/60000 [==============================] - 19s 314us/sample - loss: 0.2015 - accuracy: 0.9251\n",
      "Epoch 5/20\n",
      "60000/60000 [==============================] - 19s 312us/sample - loss: 0.1730 - accuracy: 0.9345\n",
      "Epoch 6/20\n",
      "60000/60000 [==============================] - 19s 311us/sample - loss: 0.1503 - accuracy: 0.9437\n",
      "Epoch 7/20\n",
      "60000/60000 [==============================] - 19s 311us/sample - loss: 0.1271 - accuracy: 0.9520\n",
      "Epoch 8/20\n",
      "60000/60000 [==============================] - 19s 312us/sample - loss: 0.1069 - accuracy: 0.9598\n",
      "Epoch 9/20\n",
      "60000/60000 [==============================] - 19s 311us/sample - loss: 0.0954 - accuracy: 0.9641\n",
      "Epoch 10/20\n",
      "60000/60000 [==============================] - 19s 311us/sample - loss: 0.0829 - accuracy: 0.9690\n",
      "Epoch 11/20\n",
      "60000/60000 [==============================] - 19s 311us/sample - loss: 0.0761 - accuracy: 0.9717\n",
      "Epoch 12/20\n",
      "60000/60000 [==============================] - 19s 311us/sample - loss: 0.0652 - accuracy: 0.9764\n",
      "Epoch 13/20\n",
      "60000/60000 [==============================] - 19s 309us/sample - loss: 0.0601 - accuracy: 0.9783\n",
      "Epoch 14/20\n",
      "60000/60000 [==============================] - 19s 311us/sample - loss: 0.0517 - accuracy: 0.9813\n",
      "Epoch 15/20\n",
      "60000/60000 [==============================] - 19s 310us/sample - loss: 0.0474 - accuracy: 0.9828\n",
      "Epoch 16/20\n",
      "60000/60000 [==============================] - 19s 309us/sample - loss: 0.0455 - accuracy: 0.9836\n",
      "Epoch 17/20\n",
      "60000/60000 [==============================] - 19s 310us/sample - loss: 0.0403 - accuracy: 0.9859\n",
      "Epoch 18/20\n",
      "60000/60000 [==============================] - 19s 309us/sample - loss: 0.0365 - accuracy: 0.9873\n",
      "Epoch 19/20\n",
      "60000/60000 [==============================] - 19s 310us/sample - loss: 0.0373 - accuracy: 0.9870\n",
      "Epoch 20/20\n",
      "60000/60000 [==============================] - 19s 312us/sample - loss: 0.0358 - accuracy: 0.9885\n"
     ]
    }
   ],
   "source": [
    "history = model.fit(train_images, train_labels, epochs=20)"
   ]
  },
  {
   "cell_type": "code",
   "execution_count": 108,
   "metadata": {},
   "outputs": [
    {
     "data": {
      "text/plain": [
       "<matplotlib.legend.Legend at 0x7f5124021ba8>"
      ]
     },
     "execution_count": 108,
     "metadata": {},
     "output_type": "execute_result"
    },
    {
     "data": {
      "image/png": "[encoded data removed]",
      "text/plain": [
       "<Figure size 432x288 with 1 Axes>"
      ]
     },
     "metadata": {},
     "output_type": "display_data"
    }
   ],
   "source": [
    "import matplotlib.pyplot as plt\n",
    "plt.plot(history.history[\"accuracy\"], label=\"accuracy\")\n",
    "plt.plot(history.history[\"loss\"], label=\"loss\")\n",
    "plt.xlabel = \"Epoch\"\n",
    "plt.ylabel = \"Accuracy\"\n",
    "plt.ylim([0.0, 1])\n",
    "plt.legend(loc='lower right')\n",
    "\n"
   ]
  },
  {
   "cell_type": "code",
   "execution_count": 109,
   "metadata": {},
   "outputs": [
    {
     "data": {
      "text/plain": [
       "{'loss': [0.4319558552602927,\n",
       "  0.2844185014684995,\n",
       "  0.23748964050312837,\n",
       "  0.20147591104209422,\n",
       "  0.17299237913191318,\n",
       "  0.15031543008461595,\n",
       "  0.12705500064557418,\n",
       "  0.10693114098751297,\n",
       "  0.09540244377733519,\n",
       "  0.0828975522880132,\n",
       "  0.0761209798021863,\n",
       "  0.06523721389540782,\n",
       "  0.060146402251783485,\n",
       "  0.05174284018270167,\n",
       "  0.04735399340078002,\n",
       "  0.04546762416623921,\n",
       "  0.04033511537305912,\n",
       "  0.036488824875958135,\n",
       "  0.03727886552076482,\n",
       "  0.03576126067093883],\n",
       " 'accuracy': [0.84068334,\n",
       "  0.8947333,\n",
       "  0.9119,\n",
       "  0.92505,\n",
       "  0.93448335,\n",
       "  0.94373333,\n",
       "  0.952,\n",
       "  0.9597833,\n",
       "  0.9640667,\n",
       "  0.9690167,\n",
       "  0.97165,\n",
       "  0.97635,\n",
       "  0.97828335,\n",
       "  0.9812667,\n",
       "  0.9828333,\n",
       "  0.9836,\n",
       "  0.98595,\n",
       "  0.98735,\n",
       "  0.98696667,\n",
       "  0.9885]}"
      ]
     },
     "execution_count": 109,
     "metadata": {},
     "output_type": "execute_result"
    }
   ],
   "source": [
    "history.history"
   ]
  },
  {
   "cell_type": "code",
   "execution_count": 110,
   "metadata": {},
   "outputs": [
    {
     "name": "stdout",
     "output_type": "stream",
     "text": [
      "10000/1 - 1s - loss: 0.3356 - accuracy: 0.9096\n"
     ]
    }
   ],
   "source": [
    "test_loss, test_acc = model.evaluate(test_images, test_labels, verbose=2)\n"
   ]
  },
  {
   "cell_type": "code",
   "execution_count": 111,
   "metadata": {},
   "outputs": [],
   "source": [
    "import numpy as np\n",
    "pred = model.predict(test_images)"
   ]
  },
  {
   "cell_type": "code",
   "execution_count": 112,
   "metadata": {},
   "outputs": [
    {
     "data": {
      "text/plain": [
       "(10000, 10)"
      ]
     },
     "execution_count": 112,
     "metadata": {},
     "output_type": "execute_result"
    }
   ],
   "source": [
    "pred.shape"
   ]
  },
  {
   "cell_type": "code",
   "execution_count": 113,
   "metadata": {},
   "outputs": [
    {
     "data": {
      "text/plain": [
       "array([3.70772758e-17, 6.37726540e-17, 1.81824892e-13, 1.14423505e-11,\n",
       "       9.99999166e-01, 2.94615878e-27, 8.63181640e-07, 7.27399549e-37,\n",
       "       1.11317162e-11, 2.82381967e-27], dtype=float32)"
      ]
     },
     "execution_count": 113,
     "metadata": {},
     "output_type": "execute_result"
    }
   ],
   "source": [
    "pred[10]\n"
   ]
  },
  {
   "cell_type": "code",
   "execution_count": 114,
   "metadata": {},
   "outputs": [
    {
     "data": {
      "text/plain": [
       "4"
      ]
     },
     "execution_count": 114,
     "metadata": {},
     "output_type": "execute_result"
    }
   ],
   "source": [
    "np.argmax(pred[10])"
   ]
  },
  {
   "cell_type": "code",
   "execution_count": 115,
   "metadata": {},
   "outputs": [
    {
     "data": {
      "text/plain": [
       "4"
      ]
     },
     "execution_count": 115,
     "metadata": {},
     "output_type": "execute_result"
    }
   ],
   "source": [
    "test_labels[10]"
   ]
  },
  {
   "cell_type": "code",
   "execution_count": 116,
   "metadata": {},
   "outputs": [
    {
     "name": "stdout",
     "output_type": "stream",
     "text": [
      "Model: \"sequential_7\"\n",
      "_________________________________________________________________\n",
      "Layer (type)                 Output Shape              Param #   \n",
      "=================================================================\n",
      "conv2d_12 (Conv2D)           (None, 26, 26, 32)        320       \n",
      "_________________________________________________________________\n",
      "max_pooling2d_12 (MaxPooling (None, 13, 13, 32)        0         \n",
      "_________________________________________________________________\n",
      "conv2d_13 (Conv2D)           (None, 11, 11, 64)        18496     \n",
      "_________________________________________________________________\n",
      "max_pooling2d_13 (MaxPooling (None, 5, 5, 64)          0         \n",
      "_________________________________________________________________\n",
      "flatten_4 (Flatten)          (None, 1600)              0         \n",
      "_________________________________________________________________\n",
      "dense_11 (Dense)             (None, 1000)              1601000   \n",
      "_________________________________________________________________\n",
      "dense_12 (Dense)             (None, 400)               400400    \n",
      "_________________________________________________________________\n",
      "dense_13 (Dense)             (None, 100)               40100     \n",
      "_________________________________________________________________\n",
      "dense_14 (Dense)             (None, 10)                1010      \n",
      "=================================================================\n",
      "Total params: 2,061,326\n",
      "Trainable params: 2,061,326\n",
      "Non-trainable params: 0\n",
      "_________________________________________________________________\n"
     ]
    }
   ],
   "source": [
    "model.summary()\n"
   ]
  },
  {
   "cell_type": "code",
   "execution_count": 117,
   "metadata": {},
   "outputs": [],
   "source": [
    "keras.optimizers.Adam?"
   ]
  },
  {
   "cell_type": "code",
   "execution_count": null,
   "metadata": {},
   "outputs": [],
   "source": []
  }
 ],
 "metadata": {
  "kernelspec": {
   "display_name": "Environment (conda_tensorflow_p36)",
   "language": "python",
   "name": "conda_tensorflow_p36"
  },
  "language_info": {
   "codemirror_mode": {
    "name": "ipython",
    "version": 3
   },
   "file_extension": ".py",
   "mimetype": "text/x-python",
   "name": "python",
   "nbconvert_exporter": "python",
   "pygments_lexer": "ipython3",
   "version": "3.6.5"
  }
 },
 "nbformat": 4,
 "nbformat_minor": 2
}
